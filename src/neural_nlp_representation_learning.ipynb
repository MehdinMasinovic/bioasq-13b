{
 "cells": [
  {
   "metadata": {},
   "cell_type": "markdown",
   "source": "#### Import of packages and pre-trained BERT model",
   "id": "828a180633c026ef"
  },
  {
   "metadata": {
    "ExecuteTime": {
     "end_time": "2025-05-07T19:08:09.034758Z",
     "start_time": "2025-05-07T19:07:42.471920Z"
    }
   },
   "cell_type": "code",
   "source": [
    "# Importing necessary libraries\n",
    "import torch\n",
    "from transformers import AutoTokenizer, AutoModel\n",
    "import json\n",
    "import nltk\n",
    "\n",
    "# Download NLTK resources\n",
    "nltk.download('punkt')\n",
    "nltk.download('stopwords')\n",
    "\n",
    "# Load pre-trained model and tokenizer\n",
    "# BioBERT is a good choice as it's trained on biomedical literature\n",
    "MODEL_NAME = \"dmis-lab/biobert-base-cased-v1.1\"\n",
    "tokenizer = AutoTokenizer.from_pretrained(MODEL_NAME)\n",
    "model = AutoModel.from_pretrained(MODEL_NAME)\n",
    "# Move model to GPU if available\n",
    "device = torch.device(\"cuda\" if torch.cuda.is_available() else \"cpu\")\n",
    "model = model.to(device)"
   ],
   "id": "initial_id",
   "outputs": [
    {
     "name": "stderr",
     "output_type": "stream",
     "text": [
      "[nltk_data] Downloading package punkt to\n",
      "[nltk_data]     C:\\Users\\mehdin.masinovic\\AppData\\Roaming\\nltk_data...\n",
      "[nltk_data]   Package punkt is already up-to-date!\n",
      "[nltk_data] Downloading package stopwords to\n",
      "[nltk_data]     C:\\Users\\mehdin.masinovic\\AppData\\Roaming\\nltk_data...\n",
      "[nltk_data]   Package stopwords is already up-to-date!\n"
     ]
    }
   ],
   "execution_count": 3
  },
  {
   "metadata": {},
   "cell_type": "markdown",
   "source": " #### Loading and Processing the BioASQ Dataset (Similar to Baseline)",
   "id": "321882a56975cbd3"
  },
  {
   "metadata": {
    "ExecuteTime": {
     "end_time": "2025-05-07T19:08:09.051661Z",
     "start_time": "2025-05-07T19:08:09.038340Z"
    }
   },
   "cell_type": "code",
   "source": "from utils_neural import get_embeddings",
   "id": "8b96c6918f3789ce",
   "outputs": [],
   "execution_count": 4
  },
  {
   "metadata": {},
   "cell_type": "markdown",
   "source": "#### PubMed API Integration",
   "id": "1411a03a675f9f86"
  },
  {
   "metadata": {},
   "cell_type": "markdown",
   "source": "#### Neural Document Retrieval",
   "id": "401d498cf461f25a"
  },
  {
   "metadata": {
    "ExecuteTime": {
     "end_time": "2025-05-07T19:08:09.068907Z",
     "start_time": "2025-05-07T19:08:09.051661Z"
    }
   },
   "cell_type": "code",
   "source": "from utils_neural import retrieve_and_rank_documents_neural",
   "id": "b1d1775fdb81ac32",
   "outputs": [],
   "execution_count": 5
  },
  {
   "metadata": {},
   "cell_type": "markdown",
   "source": "#### Neural Snippet Extraction",
   "id": "9f4bc8ae18e1adaf"
  },
  {
   "metadata": {
    "ExecuteTime": {
     "end_time": "2025-05-07T19:08:09.135249Z",
     "start_time": "2025-05-07T19:08:09.114478Z"
    }
   },
   "cell_type": "code",
   "source": "from utils_neural import extract_and_rank_snippets_neural",
   "id": "855e5e90e929db1b",
   "outputs": [],
   "execution_count": 6
  },
  {
   "metadata": {},
   "cell_type": "markdown",
   "source": "#### Main Processing Pipeline",
   "id": "46f8def39425c397"
  },
  {
   "metadata": {
    "ExecuteTime": {
     "end_time": "2025-05-07T19:08:10.367566Z",
     "start_time": "2025-05-07T19:08:09.139431Z"
    }
   },
   "cell_type": "code",
   "source": [
    "from utils import load_bioasq_questions\n",
    "bioasq_13b_questions = load_bioasq_questions('../data/BioASQ-training13b/training13b.json', num_questions=10)\n",
    "\n",
    "# Check the number of questions\n",
    "print(f\"Number of BioASQ 13b questions: {len(bioasq_13b_questions)}\")"
   ],
   "id": "da52d91f55a409c1",
   "outputs": [
    {
     "name": "stdout",
     "output_type": "stream",
     "text": [
      "Number of BioASQ 13b questions: 10\n"
     ]
    }
   ],
   "execution_count": 7
  },
  {
   "metadata": {
    "ExecuteTime": {
     "end_time": "2025-05-07T19:09:19.553327Z",
     "start_time": "2025-05-07T19:08:10.369576Z"
    }
   },
   "cell_type": "code",
   "source": [
    "# Process all questions\n",
    "results = []\n",
    "\n",
    "for question in bioasq_13b_questions:\n",
    "    print(f\"Processing question: {question['id']}\")\n",
    "    \n",
    "    # 1. Retrieve and rank documents using neural approach\n",
    "    ranked_docs = retrieve_and_rank_documents_neural(\n",
    "        question, \n",
    "        model, \n",
    "        tokenizer, \n",
    "        max_docs=3\n",
    "    )\n",
    "    \n",
    "    # 2. Extract and rank snippets using neural approach\n",
    "    ranked_snippets = extract_and_rank_snippets_neural(\n",
    "        question,\n",
    "        ranked_docs,\n",
    "        model,\n",
    "        tokenizer,\n",
    "        max_snippets=3\n",
    "    )\n",
    "    \n",
    "    # 3. Format result for this question\n",
    "    question_result = {\n",
    "        'id': question['id'],\n",
    "        'documents': [f\"http://www.ncbi.nlm.nih.gov/pubmed/{doc['pmid']}\" for doc in ranked_docs],\n",
    "        'snippets': ranked_snippets\n",
    "    }\n",
    "    \n",
    "    results.append(question_result)\n",
    "    \n",
    "    print(f\"Found {len(ranked_docs)} documents and {len(ranked_snippets)} snippets\")\n",
    "\n",
    "# Save results to file\n",
    "with open('neural_results.json', 'w') as f:\n",
    "    json.dump({'questions': results}, f, indent=2)"
   ],
   "id": "fc4e1c93c2ef8663",
   "outputs": [
    {
     "name": "stdout",
     "output_type": "stream",
     "text": [
      "Processing question: 55031181e9bde69634000014\n",
      "Found 3 documents and 3 snippets\n",
      "Processing question: 55046d5ff8aee20f27000007\n",
      "Found 0 documents and 0 snippets\n",
      "Processing question: 54e25eaaae9738404b000017\n",
      "Found 3 documents and 3 snippets\n",
      "Processing question: 535d292a9a4572de6f000003\n",
      "Found 3 documents and 3 snippets\n",
      "Processing question: 55262a9787ecba3764000009\n",
      "Found 3 documents and 3 snippets\n",
      "Processing question: 51406e6223fec90375000009\n",
      "Found 0 documents and 0 snippets\n",
      "Processing question: 553fa78b1d53b76422000007\n",
      "Found 3 documents and 3 snippets\n",
      "Processing question: 5149199dd24251bc05000040\n",
      "Found 3 documents and 3 snippets\n",
      "Processing question: 52bf1db603868f1b06000011\n",
      "Found 3 documents and 3 snippets\n",
      "Processing question: 5709e4b2cf1c32585100001c\n",
      "Found 0 documents and 0 snippets\n"
     ]
    }
   ],
   "execution_count": 8
  },
  {
   "metadata": {
    "ExecuteTime": {
     "end_time": "2025-05-07T19:09:19.564058Z",
     "start_time": "2025-05-07T19:09:19.555664Z"
    }
   },
   "cell_type": "code",
   "source": [
    "from utils import load_bioasq_test_questions\n",
    "bioasq_13b_test_questions = load_bioasq_test_questions('../data/BioASQ-task13bPhaseA-testset4.txt')\n",
    "\n",
    "# Check the number of questions\n",
    "print(f\"Number of BioASQ 13b test questions: {len(bioasq_13b_test_questions)}\")"
   ],
   "id": "48748938aca74e7a",
   "outputs": [
    {
     "name": "stdout",
     "output_type": "stream",
     "text": [
      "Number of BioASQ 13b test questions: 85\n"
     ]
    }
   ],
   "execution_count": 9
  },
  {
   "metadata": {
    "ExecuteTime": {
     "end_time": "2025-05-07T20:07:59.140271Z",
     "start_time": "2025-05-07T19:09:19.564058Z"
    }
   },
   "cell_type": "code",
   "source": [
    "# Process all test questions\n",
    "results = []\n",
    "\n",
    "for question in bioasq_13b_test_questions:\n",
    "    print(f\"Processing question: {question['id']}\")\n",
    "    \n",
    "    # 1. Retrieve and rank documents using neural approach\n",
    "    ranked_docs = retrieve_and_rank_documents_neural(\n",
    "        question, \n",
    "        model, \n",
    "        tokenizer, \n",
    "        max_docs=50  # Retrieve more docs initially to ensure quality\n",
    "    )\n",
    "    \n",
    "    # Limit to top 10 documents\n",
    "    top_docs = ranked_docs[:10]\n",
    "    \n",
    "    # 2. Extract and rank snippets using neural approach\n",
    "    ranked_snippets = extract_and_rank_snippets_neural(\n",
    "        question,\n",
    "        top_docs,  # Only use the top 10 docs for snippet extraction\n",
    "        model,\n",
    "        tokenizer,\n",
    "        max_snippets=10  # Limit to top 10 snippets\n",
    "    )\n",
    "    \n",
    "    # 3. Format result for this question according to BioASQ requirements\n",
    "    question_result = {\n",
    "        'id': question['id'],\n",
    "        'documents': [f\"http://www.ncbi.nlm.nih.gov/pubmed/{doc['pmid']}\" for doc in top_docs],\n",
    "        'snippets': [\n",
    "            {\n",
    "                'document': f\"http://www.ncbi.nlm.nih.gov/pubmed/{snippet['document'].split('/')[-1]}\",\n",
    "                'text': snippet['text'],\n",
    "                'offsetInBeginSection': snippet['offsetInBeginSection'],\n",
    "                'offsetInEndSection': snippet['offsetInEndSection'],\n",
    "                'beginSection': snippet['beginSection'],\n",
    "                'endSection': snippet['endSection']\n",
    "            } \n",
    "            for snippet in ranked_snippets\n",
    "        ]\n",
    "    }\n",
    "    \n",
    "    results.append(question_result)\n",
    "    \n",
    "    print(f\"Found {len(top_docs)} documents and {len(ranked_snippets)} snippets\")\n",
    "\n",
    "# Save results to file in the required format\n",
    "with open('BioASQ-task13b-phaseA-testset4-neural-results.json', 'w') as f:\n",
    "    json.dump({'questions': results}, f, indent=2)"
   ],
   "id": "f8f81f1e21af414d",
   "outputs": [
    {
     "name": "stdout",
     "output_type": "stream",
     "text": [
      "Processing question: 67e6cf2618b1e36f2e0000d0\n",
      "Found 0 documents and 0 snippets\n",
      "Processing question: 680d5e47353a4a2e6b000005\n",
      "Found 10 documents and 10 snippets\n",
      "Processing question: 680f4a68353a4a2e6b000007\n",
      "Found 10 documents and 10 snippets\n",
      "Processing question: 680a083218b1e36f2e00014d\n",
      "Found 10 documents and 10 snippets\n",
      "Processing question: 67e5557c18b1e36f2e0000ac\n",
      "Found 6 documents and 10 snippets\n",
      "Processing question: 6810fef8353a4a2e6b000016\n",
      "Found 0 documents and 0 snippets\n",
      "Processing question: 6810cb23353a4a2e6b000012\n",
      "Found 0 documents and 0 snippets\n",
      "Processing question: 680bc7a718b1e36f2e000156\n",
      "Found 10 documents and 10 snippets\n",
      "Processing question: 67e56f2018b1e36f2e0000b0\n",
      "Found 0 documents and 0 snippets\n",
      "Processing question: 67fe5f0918b1e36f2e000144\n",
      "Found 0 documents and 0 snippets\n",
      "Processing question: 67fbe4d718b1e36f2e00011d\n",
      "Found 10 documents and 10 snippets\n",
      "Processing question: 680a079718b1e36f2e000147\n",
      "Found 0 documents and 0 snippets\n",
      "Processing question: 67e5749b18b1e36f2e0000b5\n",
      "Found 10 documents and 10 snippets\n",
      "Processing question: 680d5f2a353a4a2e6b000006\n",
      "Found 0 documents and 0 snippets\n",
      "Processing question: 6810f6f0353a4a2e6b000015\n",
      "Found 1 documents and 8 snippets\n",
      "Processing question: 680a237618b1e36f2e000152\n",
      "Found 1 documents and 9 snippets\n",
      "Processing question: 68110110353a4a2e6b000018\n",
      "Found 0 documents and 0 snippets\n",
      "Processing question: 680f4c63353a4a2e6b00000d\n",
      "Found 0 documents and 0 snippets\n",
      "Processing question: 680a087218b1e36f2e00014f\n",
      "Found 2 documents and 10 snippets\n",
      "Processing question: 6810daad353a4a2e6b000013\n",
      "Found 10 documents and 10 snippets\n",
      "Processing question: 6810c27b353a4a2e6b000010\n",
      "Found 10 documents and 10 snippets\n",
      "Processing question: 680a07a418b1e36f2e000148\n",
      "Found 10 documents and 10 snippets\n",
      "Processing question: 67fbd58c18b1e36f2e00010e\n",
      "Found 1 documents and 10 snippets\n",
      "Processing question: 67fbe10618b1e36f2e000111\n",
      "Found 2 documents and 10 snippets\n",
      "Processing question: 680fcb72353a4a2e6b00000e\n",
      "Found 10 documents and 10 snippets\n",
      "Processing question: 6805568118b1e36f2e000145\n",
      "Found 0 documents and 0 snippets\n",
      "Processing question: 67e26b0b18b1e36f2e000073\n",
      "Found 10 documents and 10 snippets\n",
      "Processing question: 680a080b18b1e36f2e00014b\n",
      "Found 10 documents and 10 snippets\n",
      "Processing question: 6810db0a353a4a2e6b000014\n",
      "Found 10 documents and 10 snippets\n",
      "Processing question: 67e2cfcf18b1e36f2e00009a\n",
      "Found 10 documents and 10 snippets\n",
      "Processing question: 680a081d18b1e36f2e00014c\n",
      "Found 10 documents and 10 snippets\n",
      "Processing question: 6810ff8f353a4a2e6b000017\n",
      "Found 0 documents and 0 snippets\n",
      "Processing question: 67fbe21818b1e36f2e000113\n",
      "Found 10 documents and 10 snippets\n",
      "Processing question: 67fc20ee18b1e36f2e00012a\n",
      "Found 1 documents and 9 snippets\n",
      "Processing question: 67f8527318b1e36f2e000104\n",
      "Found 0 documents and 0 snippets\n",
      "Processing question: 680f4ae9353a4a2e6b000009\n",
      "Found 5 documents and 10 snippets\n",
      "Processing question: 67fd922518b1e36f2e000143\n",
      "Found 1 documents and 10 snippets\n",
      "Processing question: 67fc1a3818b1e36f2e000129\n",
      "Found 10 documents and 10 snippets\n",
      "Processing question: 67e285b018b1e36f2e00007b\n",
      "Found 10 documents and 10 snippets\n",
      "Processing question: 680a07f918b1e36f2e00014a\n",
      "Found 10 documents and 10 snippets\n",
      "Processing question: 67cdc78381b102733300001a\n",
      "Found 1 documents and 10 snippets\n",
      "Processing question: 67d7ff2c18b1e36f2e000049\n",
      "Found 10 documents and 10 snippets\n",
      "Processing question: 680a084018b1e36f2e00014e\n",
      "Found 5 documents and 10 snippets\n",
      "Processing question: 67cde41a81b102733300001d\n",
      "Found 0 documents and 0 snippets\n",
      "Processing question: 67e2b80618b1e36f2e00008f\n",
      "Found 10 documents and 10 snippets\n",
      "Processing question: 680a21ff18b1e36f2e000151\n",
      "Found 10 documents and 10 snippets\n",
      "Processing question: 67fc546c18b1e36f2e000130\n",
      "Found 0 documents and 0 snippets\n",
      "Processing question: 680f4aa6353a4a2e6b000008\n",
      "Found 10 documents and 10 snippets\n",
      "Processing question: 680a078618b1e36f2e000146\n",
      "Found 10 documents and 10 snippets\n",
      "Processing question: 67e098cb18b1e36f2e00006d\n",
      "Found 10 documents and 10 snippets\n",
      "Processing question: 67d6be8a18b1e36f2e000022\n",
      "Found 10 documents and 10 snippets\n",
      "Processing question: 680bc74618b1e36f2e000155\n",
      "Found 10 documents and 10 snippets\n",
      "Processing question: 67f857eb18b1e36f2e000105\n",
      "Found 10 documents and 10 snippets\n",
      "Processing question: 67e291a718b1e36f2e000081\n",
      "Found 10 documents and 10 snippets\n",
      "Processing question: 680b7f4818b1e36f2e000154\n",
      "Found 5 documents and 10 snippets\n",
      "Processing question: 67cde43c81b102733300001e\n",
      "Found 0 documents and 0 snippets\n",
      "Processing question: 67e2958018b1e36f2e000084\n",
      "Found 10 documents and 10 snippets\n",
      "Processing question: 680c174d353a4a2e6b000001\n",
      "Found 10 documents and 10 snippets\n",
      "Processing question: 67e0053118b1e36f2e000067\n",
      "Found 0 documents and 0 snippets\n",
      "Processing question: 67e2a8d618b1e36f2e000088\n",
      "Found 10 documents and 10 snippets\n",
      "Processing question: 680a07ed18b1e36f2e000149\n",
      "Found 10 documents and 10 snippets\n",
      "Processing question: 67e93f2d18b1e36f2e0000db\n",
      "Found 0 documents and 0 snippets\n",
      "Processing question: 67e2bde318b1e36f2e000093\n",
      "Found 10 documents and 10 snippets\n",
      "Processing question: 680c137818b1e36f2e000158\n",
      "Found 0 documents and 0 snippets\n",
      "Processing question: 67ca061181b102733300000a\n",
      "Found 1 documents and 10 snippets\n",
      "Processing question: 67e26d6218b1e36f2e000074\n",
      "Found 2 documents and 10 snippets\n",
      "Processing question: 680a21eb18b1e36f2e000150\n",
      "Found 10 documents and 10 snippets\n",
      "Processing question: 67fa3c5818b1e36f2e000109\n",
      "Found 10 documents and 10 snippets\n",
      "Processing question: 6810c54b353a4a2e6b000011\n",
      "Found 10 documents and 10 snippets\n",
      "Processing question: 67fd5d6518b1e36f2e000138\n",
      "Found 10 documents and 10 snippets\n",
      "Processing question: 67fb046e18b1e36f2e00010c\n",
      "Found 0 documents and 0 snippets\n",
      "Processing question: 67d6bbfa18b1e36f2e000020\n",
      "Found 10 documents and 10 snippets\n",
      "Processing question: 680fe1e3353a4a2e6b00000f\n",
      "Found 10 documents and 10 snippets\n",
      "Processing question: 680d5dd8353a4a2e6b000004\n",
      "Found 10 documents and 10 snippets\n",
      "Processing question: 67d7208218b1e36f2e00002e\n",
      "Found 10 documents and 10 snippets\n",
      "Processing question: 67fc381f18b1e36f2e00012f\n",
      "Found 10 documents and 10 snippets\n",
      "Processing question: 67c9e46881b1027333000004\n",
      "Found 10 documents and 10 snippets\n",
      "Processing question: 67fbe2ab18b1e36f2e000116\n",
      "Found 10 documents and 10 snippets\n",
      "Processing question: 67eaf14c18b1e36f2e0000de\n",
      "Found 0 documents and 0 snippets\n",
      "Processing question: 67c9e7ee81b1027333000007\n",
      "Found 0 documents and 0 snippets\n",
      "Processing question: 67d71d8f18b1e36f2e00002b\n",
      "Found 0 documents and 0 snippets\n",
      "Processing question: 67cdb26a81b1027333000017\n",
      "Found 1 documents and 8 snippets\n",
      "Processing question: 67e2b0a018b1e36f2e00008b\n",
      "Found 10 documents and 10 snippets\n",
      "Processing question: 67e090be18b1e36f2e00006c\n",
      "Found 10 documents and 10 snippets\n",
      "Processing question: 67d7fded18b1e36f2e000042\n",
      "Found 10 documents and 10 snippets\n"
     ]
    }
   ],
   "execution_count": 10
  },
  {
   "metadata": {
    "ExecuteTime": {
     "end_time": "2025-05-07T20:07:59.163810Z",
     "start_time": "2025-05-07T20:07:59.153941Z"
    }
   },
   "cell_type": "code",
   "source": "",
   "id": "b51cd715c855b89c",
   "outputs": [],
   "execution_count": 10
  }
 ],
 "metadata": {
  "kernelspec": {
   "display_name": "Python 3",
   "language": "python",
   "name": "python3"
  },
  "language_info": {
   "codemirror_mode": {
    "name": "ipython",
    "version": 2
   },
   "file_extension": ".py",
   "mimetype": "text/x-python",
   "name": "python",
   "nbconvert_exporter": "python",
   "pygments_lexer": "ipython2",
   "version": "2.7.6"
  }
 },
 "nbformat": 4,
 "nbformat_minor": 5
}
